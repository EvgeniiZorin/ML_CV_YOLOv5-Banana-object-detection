{
 "cells": [
  {
   "attachments": {},
   "cell_type": "markdown",
   "metadata": {},
   "source": [
    "# Libraries"
   ]
  },
  {
   "cell_type": "code",
   "execution_count": 3,
   "metadata": {},
   "outputs": [],
   "source": [
    "import os\n",
    "import torch\n",
    "from PIL import Image\n",
    "import matplotlib.pyplot as plt\n",
    "\n",
    "import mySecrets"
   ]
  },
  {
   "attachments": {},
   "cell_type": "markdown",
   "metadata": {},
   "source": [
    "# Download"
   ]
  },
  {
   "attachments": {},
   "cell_type": "markdown",
   "metadata": {},
   "source": [
    "Run the code below to download the Banana dataset from Roboflow. \n",
    "\n",
    "After running the code below, edit the \"data.yaml\" file to contain the following:\n",
    "\n",
    "```text\n",
    "train: c:/Users/evgen/Desktop/230506_YOLO_banana/Banana-detection-3/train/images\n",
    "val: c:/Users/evgen/Desktop/230506_YOLO_banana/Banana-detection-3/valid/images\n",
    "test: c:/Users/evgen/Desktop/230506_YOLO_banana/Banana-detection-3/test/images\n",
    "\n",
    "nc: 1\n",
    "names: ['banana']\n",
    "```\n"
   ]
  },
  {
   "cell_type": "code",
   "execution_count": 10,
   "metadata": {},
   "outputs": [
    {
     "name": "stdout",
     "output_type": "stream",
     "text": [
      "Requirement already satisfied: roboflow in c:\\users\\evgen\\appdata\\local\\programs\\python\\python310\\lib\\site-packages (1.0.5)\n",
      "Requirement already satisfied: requests in c:\\users\\evgen\\appdata\\local\\programs\\python\\python310\\lib\\site-packages (from roboflow) (2.28.1)\n",
      "Requirement already satisfied: six in c:\\users\\evgen\\appdata\\local\\programs\\python\\python310\\lib\\site-packages (from roboflow) (1.15.0)\n",
      "Requirement already satisfied: kiwisolver>=1.3.1 in c:\\users\\evgen\\appdata\\local\\programs\\python\\python310\\lib\\site-packages (from roboflow) (1.4.4)\n",
      "Requirement already satisfied: tqdm>=4.41.0 in c:\\users\\evgen\\appdata\\local\\programs\\python\\python310\\lib\\site-packages (from roboflow) (4.64.0)\n",
      "Requirement already satisfied: certifi==2022.12.7 in c:\\users\\evgen\\appdata\\local\\programs\\python\\python310\\lib\\site-packages (from roboflow) (2022.12.7)\n",
      "Requirement already satisfied: urllib3>=1.26.6 in c:\\users\\evgen\\appdata\\local\\programs\\python\\python310\\lib\\site-packages (from roboflow) (1.26.11)\n",
      "Requirement already satisfied: pyparsing==2.4.7 in c:\\users\\evgen\\appdata\\local\\programs\\python\\python310\\lib\\site-packages (from roboflow) (2.4.7)\n",
      "Requirement already satisfied: cycler==0.10.0 in c:\\users\\evgen\\appdata\\local\\programs\\python\\python310\\lib\\site-packages (from roboflow) (0.10.0)\n",
      "Requirement already satisfied: idna==2.10 in c:\\users\\evgen\\appdata\\local\\programs\\python\\python310\\lib\\site-packages (from roboflow) (2.10)\n",
      "Requirement already satisfied: Pillow>=7.1.2 in c:\\users\\evgen\\appdata\\local\\programs\\python\\python310\\lib\\site-packages (from roboflow) (9.2.0)\n",
      "Requirement already satisfied: python-dotenv in c:\\users\\evgen\\appdata\\local\\programs\\python\\python310\\lib\\site-packages (from roboflow) (1.0.0)\n",
      "Requirement already satisfied: requests-toolbelt in c:\\users\\evgen\\appdata\\local\\programs\\python\\python310\\lib\\site-packages (from roboflow) (0.10.1)\n",
      "Requirement already satisfied: chardet==4.0.0 in c:\\users\\evgen\\appdata\\local\\programs\\python\\python310\\lib\\site-packages (from roboflow) (4.0.0)\n",
      "Requirement already satisfied: python-dateutil in c:\\users\\evgen\\appdata\\local\\programs\\python\\python310\\lib\\site-packages (from roboflow) (2.8.2)\n",
      "Requirement already satisfied: PyYAML>=5.3.1 in c:\\users\\evgen\\appdata\\local\\programs\\python\\python310\\lib\\site-packages (from roboflow) (6.0)\n",
      "Requirement already satisfied: numpy>=1.18.5 in c:\\users\\evgen\\appdata\\local\\programs\\python\\python310\\lib\\site-packages (from roboflow) (1.23.1)\n",
      "Requirement already satisfied: wget in c:\\users\\evgen\\appdata\\local\\programs\\python\\python310\\lib\\site-packages (from roboflow) (3.2)\n",
      "Requirement already satisfied: matplotlib in c:\\users\\evgen\\appdata\\local\\programs\\python\\python310\\lib\\site-packages (from roboflow) (3.5.3)\n",
      "Requirement already satisfied: opencv-python>=4.1.2 in c:\\users\\evgen\\appdata\\local\\programs\\python\\python310\\lib\\site-packages (from roboflow) (4.6.0.66)\n",
      "Requirement already satisfied: colorama in c:\\users\\evgen\\appdata\\local\\programs\\python\\python310\\lib\\site-packages (from tqdm>=4.41.0->roboflow) (0.4.5)\n",
      "Requirement already satisfied: fonttools>=4.22.0 in c:\\users\\evgen\\appdata\\local\\programs\\python\\python310\\lib\\site-packages (from matplotlib->roboflow) (4.37.1)\n",
      "Requirement already satisfied: packaging>=20.0 in c:\\users\\evgen\\appdata\\local\\programs\\python\\python310\\lib\\site-packages (from matplotlib->roboflow) (21.3)\n",
      "Requirement already satisfied: charset-normalizer<3,>=2 in c:\\users\\evgen\\appdata\\local\\programs\\python\\python310\\lib\\site-packages (from requests->roboflow) (2.1.0)\n"
     ]
    },
    {
     "name": "stderr",
     "output_type": "stream",
     "text": [
      "\n",
      "[notice] A new release of pip available: 22.3.1 -> 23.1.2\n",
      "[notice] To update, run: python.exe -m pip install --upgrade pip\n"
     ]
    },
    {
     "name": "stdout",
     "output_type": "stream",
     "text": [
      "loading Roboflow workspace...\n",
      "loading Roboflow project...\n",
      "Downloading Dataset Version Zip in Banana-detection-3 to yolov5pytorch: 100% [8235330 / 8235330] bytes\n"
     ]
    },
    {
     "name": "stderr",
     "output_type": "stream",
     "text": [
      "Extracting Dataset Version Zip to Banana-detection-3 in yolov5pytorch:: 100%|██████████| 314/314 [00:00<00:00, 1113.78it/s]\n"
     ]
    }
   ],
   "source": [
    "### Download the Banana dataset\n",
    "\n",
    "!pip install roboflow\n",
    "\n",
    "from roboflow import Roboflow\n",
    "rf = Roboflow(api_key=mySecrets.roboflow_apiKey)\n",
    "project = rf.workspace(\"evgenii-zorin-cm5us\").project(\"banana-detection-7jjzn\")\n",
    "dataset = project.version(3).download(\"yolov5\")\n"
   ]
  },
  {
   "attachments": {},
   "cell_type": "markdown",
   "metadata": {},
   "source": [
    "Subsequently, clone the YOLOv5 Github repository:"
   ]
  },
  {
   "cell_type": "code",
   "execution_count": 12,
   "metadata": {},
   "outputs": [
    {
     "name": "stdout",
     "output_type": "stream",
     "text": [
      "c:\\Users\\evgen\\Desktop\\230506_YOLO_banana\n",
      " > YOLOv5 repo already present.\n",
      "c:\\Users\\evgen\\Desktop\\230506_YOLO_banana\\yolov5\n",
      " > current dir: c:\\Users\\evgen\\Desktop\\230506_YOLO_banana\\yolov5\n",
      "Note: you may need to restart the kernel to use updated packages.\n"
     ]
    },
    {
     "name": "stderr",
     "output_type": "stream",
     "text": [
      "\n",
      "[notice] A new release of pip available: 22.3.1 -> 23.1.2\n",
      "[notice] To update, run: python.exe -m pip install --upgrade pip\n"
     ]
    },
    {
     "name": "stdout",
     "output_type": "stream",
     "text": [
      "Note: you may need to restart the kernel to use updated packages.\n"
     ]
    },
    {
     "name": "stderr",
     "output_type": "stream",
     "text": [
      "\n",
      "[notice] A new release of pip available: 22.3.1 -> 23.1.2\n",
      "[notice] To update, run: python.exe -m pip install --upgrade pip\n"
     ]
    }
   ],
   "source": [
    "print( os.getcwd() )\n",
    "\n",
    "### Download YOLOv5 Github repo\n",
    "if 'yolov5' not in os.listdir():\n",
    "\t!git clone https://github.com/ultralytics/yolov5\n",
    "\tprint(\" > Successfully cloned github repo of YOLOv5!\")\n",
    "else:\n",
    "\tprint(\" > YOLOv5 repo already present.\")\n",
    "\n",
    "if os.path.basename(os.getcwd()) != 'yolov5':\n",
    "\t%cd yolov5\n",
    "\n",
    "print(f\" > current dir: {os.getcwd()}\")\n",
    "%pip install -qr requirements.txt\n",
    "%pip install -q roboflow\n"
   ]
  },
  {
   "attachments": {},
   "cell_type": "markdown",
   "metadata": {},
   "source": [
    "# Experiments\n",
    "\n",
    "Subsequently, I ran some experiments on training YOLO based on different parameters:\n",
    "- NANO weights: `yolov5n.pt` \n",
    "- 100 epochs train only vs 10x10 evolve -> 100 train epochs\n",
    "- Fewer images vs more images with augmentation. At first, my dataset only had 44 images. When I saw that the performance of the trained model was too low, I decided to add more images (around 10) and perform augmentation on Roboflow, which resulted in the final dataset having around 150 images. \n",
    "\n",
    "Example commands that could be run:\n",
    "```py\n",
    "### train only\n",
    "!python train.py --img 416 --batch 1 --epochs 100 --data ../Banana-detection-3/data.yaml --weights yolov5n.pt\n",
    "\n",
    "### evolve first, then train with hyperparameters identified with evolve\n",
    "!python train.py --img 416 --batch 1 --epochs 10 --data ../Banana-detection-3/data.yaml --weights yolov5n.pt --evolve 10\n",
    "!python train.py --img 416 --batch 1 --epochs 100 --data ../Banana-detection-3/data.yaml --weights yolov5n.pt --hyp runs/evolve/exp/hyp_evolve.yaml\n",
    "```\n",
    "\n",
    "| Command | Parameters | P | R | mAP50 |\n",
    "| - | - | - | - | - |\n",
    "| 44 images -> train (100 epochs) | `--img 416` | 0.536 | 0.75 | 0.348 |\n",
    "| 44 images -> Evolve (10 epochs * 10 evolve) -> train (100 epochs) | `--img 416` | 0.615 | 0.5 | 0.691 |\n",
    "| 151 images -> train (100 epochs) | `--img 416` | 0.778 | 0.833 | 0.812 |\n",
    "| 151 images -> Evolve (10 epochs * 10 evolve) -> train (100 epochs) | `--img 416` | 0.986 | 0.833 | 0.843 |\n",
    "\n",
    "As per the experiments above, the best weights were saved in `Final_model/best_params/best.pt`. \n"
   ]
  },
  {
   "attachments": {},
   "cell_type": "markdown",
   "metadata": {},
   "source": [
    "# Test\n",
    "\n",
    "The final model could be run as:\n",
    "```py\n",
    "### Test images from the original dataset, test subset\n",
    "!python val.py --task test --weights ../Final_model/best_params/best.pt --img 416 --data ../Banana-detection-3/data.yaml\n",
    "### Test video coming from web camera\n",
    "!python detect.py --weights ../Final_model/best_params/best.pt --source 0\n",
    "```\n",
    "\n",
    "The results of the object detection on the test portion of the dataset can be seen in `Predictions`:\n",
    "\n",
    "<img src=\"Final_model/predictions/val_batch0_pred.jpg\">\n"
   ]
  }
 ],
 "metadata": {
  "kernelspec": {
   "display_name": "Python 3",
   "language": "python",
   "name": "python3"
  },
  "language_info": {
   "codemirror_mode": {
    "name": "ipython",
    "version": 3
   },
   "file_extension": ".py",
   "mimetype": "text/x-python",
   "name": "python",
   "nbconvert_exporter": "python",
   "pygments_lexer": "ipython3",
   "version": "3.10.6"
  },
  "orig_nbformat": 4
 },
 "nbformat": 4,
 "nbformat_minor": 2
}
